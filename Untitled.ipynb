{
 "cells": [
  {
   "cell_type": "code",
   "execution_count": null,
   "id": "e4b54f21-9e9b-4dce-96a7-a6832af02b49",
   "metadata": {},
   "outputs": [],
   "source": [
    "**1 continius**\n",
    "sns.histplot(df[\"Totalbill\"])\n",
    "\n",
    "**2 coitininous**\n",
    "\n",
    "sns.scatterplot(x=df[\"Totalbill\"],y=df[\"count\"])\n",
    "\n",
    "**2 cointinious with 1 discrete**\n",
    "\n",
    "sns.scatterplot(x=df[\"Totalbill\"],y=df[\"count\"],hue=[\"Gender\"])"
   ]
  },
  {
   "cell_type": "code",
   "execution_count": null,
   "id": "6633632f-4f3d-4135-8a07-39593f3f5ec8",
   "metadata": {},
   "outputs": [],
   "source": []
  },
  {
   "cell_type": "code",
   "execution_count": null,
   "id": "7b1e5777-1cb9-40ea-b9c4-474eee8a9a07",
   "metadata": {},
   "outputs": [],
   "source": []
  },
  {
   "cell_type": "code",
   "execution_count": null,
   "id": "b8f912e5-7ec3-4657-83a7-dca62fb97d1c",
   "metadata": {},
   "outputs": [],
   "source": []
  },
  {
   "cell_type": "code",
   "execution_count": null,
   "id": "25d23d60-81d8-4ccc-b65f-0dfe244a12ee",
   "metadata": {},
   "outputs": [],
   "source": []
  },
  {
   "cell_type": "code",
   "execution_count": null,
   "id": "c1647ffd-f915-4ded-8eda-1d0bf62020ed",
   "metadata": {},
   "outputs": [],
   "source": []
  },
  {
   "cell_type": "code",
   "execution_count": null,
   "id": "8aa0b84f-d3f1-4e77-9bad-fb7d22f3431a",
   "metadata": {},
   "outputs": [],
   "source": []
  },
  {
   "cell_type": "code",
   "execution_count": null,
   "id": "9738de36-a20b-4490-b286-768e3ad14483",
   "metadata": {},
   "outputs": [],
   "source": []
  }
 ],
 "metadata": {
  "kernelspec": {
   "display_name": "Python 3 (ipykernel)",
   "language": "python",
   "name": "python3"
  },
  "language_info": {
   "codemirror_mode": {
    "name": "ipython",
    "version": 3
   },
   "file_extension": ".py",
   "mimetype": "text/x-python",
   "name": "python",
   "nbconvert_exporter": "python",
   "pygments_lexer": "ipython3",
   "version": "3.11.7"
  }
 },
 "nbformat": 4,
 "nbformat_minor": 5
}
