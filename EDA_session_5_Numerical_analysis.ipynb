{
 "cells": [
  {
   "cell_type": "code",
   "execution_count": 2,
   "id": "5eef82b5-8572-4ba6-b369-41d6f02f6313",
   "metadata": {},
   "outputs": [],
   "source": [
    "import pandas as pd\n",
    "import numpy as np\n",
    "import matplotlib.pyplot as plt\n",
    "import seaborn as sns"
   ]
  },
  {
   "cell_type": "markdown",
   "id": "025587a7-7303-433a-a828-102378ad977c",
   "metadata": {},
   "source": [
    "**Read the data**"
   ]
  },
  {
   "cell_type": "code",
   "execution_count": 3,
   "id": "cc27f64e-5db0-4a14-84e6-fc16fafe253d",
   "metadata": {},
   "outputs": [
    {
     "data": {
      "text/html": [
       "<div>\n",
       "<style scoped>\n",
       "    .dataframe tbody tr th:only-of-type {\n",
       "        vertical-align: middle;\n",
       "    }\n",
       "\n",
       "    .dataframe tbody tr th {\n",
       "        vertical-align: top;\n",
       "    }\n",
       "\n",
       "    .dataframe thead th {\n",
       "        text-align: right;\n",
       "    }\n",
       "</style>\n",
       "<table border=\"1\" class=\"dataframe\">\n",
       "  <thead>\n",
       "    <tr style=\"text-align: right;\">\n",
       "      <th></th>\n",
       "      <th>case_id</th>\n",
       "      <th>continent</th>\n",
       "      <th>education_of_employee</th>\n",
       "      <th>has_job_experience</th>\n",
       "      <th>requires_job_training</th>\n",
       "      <th>no_of_employees</th>\n",
       "      <th>yr_of_estab</th>\n",
       "      <th>region_of_employment</th>\n",
       "      <th>prevailing_wage</th>\n",
       "      <th>unit_of_wage</th>\n",
       "      <th>full_time_position</th>\n",
       "      <th>case_status</th>\n",
       "    </tr>\n",
       "  </thead>\n",
       "  <tbody>\n",
       "    <tr>\n",
       "      <th>0</th>\n",
       "      <td>EZYV01</td>\n",
       "      <td>Asia</td>\n",
       "      <td>High School</td>\n",
       "      <td>N</td>\n",
       "      <td>N</td>\n",
       "      <td>14513</td>\n",
       "      <td>2007</td>\n",
       "      <td>West</td>\n",
       "      <td>592.2029</td>\n",
       "      <td>Hour</td>\n",
       "      <td>Y</td>\n",
       "      <td>Denied</td>\n",
       "    </tr>\n",
       "    <tr>\n",
       "      <th>1</th>\n",
       "      <td>EZYV02</td>\n",
       "      <td>Asia</td>\n",
       "      <td>Master's</td>\n",
       "      <td>Y</td>\n",
       "      <td>N</td>\n",
       "      <td>2412</td>\n",
       "      <td>2002</td>\n",
       "      <td>Northeast</td>\n",
       "      <td>83425.6500</td>\n",
       "      <td>Year</td>\n",
       "      <td>Y</td>\n",
       "      <td>Certified</td>\n",
       "    </tr>\n",
       "    <tr>\n",
       "      <th>2</th>\n",
       "      <td>EZYV03</td>\n",
       "      <td>Asia</td>\n",
       "      <td>Bachelor's</td>\n",
       "      <td>N</td>\n",
       "      <td>Y</td>\n",
       "      <td>44444</td>\n",
       "      <td>2008</td>\n",
       "      <td>West</td>\n",
       "      <td>122996.8600</td>\n",
       "      <td>Year</td>\n",
       "      <td>Y</td>\n",
       "      <td>Denied</td>\n",
       "    </tr>\n",
       "    <tr>\n",
       "      <th>3</th>\n",
       "      <td>EZYV04</td>\n",
       "      <td>Asia</td>\n",
       "      <td>Bachelor's</td>\n",
       "      <td>N</td>\n",
       "      <td>N</td>\n",
       "      <td>98</td>\n",
       "      <td>1897</td>\n",
       "      <td>West</td>\n",
       "      <td>83434.0300</td>\n",
       "      <td>Year</td>\n",
       "      <td>Y</td>\n",
       "      <td>Denied</td>\n",
       "    </tr>\n",
       "    <tr>\n",
       "      <th>4</th>\n",
       "      <td>EZYV05</td>\n",
       "      <td>Africa</td>\n",
       "      <td>Master's</td>\n",
       "      <td>Y</td>\n",
       "      <td>N</td>\n",
       "      <td>1082</td>\n",
       "      <td>2005</td>\n",
       "      <td>South</td>\n",
       "      <td>149907.3900</td>\n",
       "      <td>Year</td>\n",
       "      <td>Y</td>\n",
       "      <td>Certified</td>\n",
       "    </tr>\n",
       "  </tbody>\n",
       "</table>\n",
       "</div>"
      ],
      "text/plain": [
       "  case_id continent education_of_employee has_job_experience  \\\n",
       "0  EZYV01      Asia           High School                  N   \n",
       "1  EZYV02      Asia              Master's                  Y   \n",
       "2  EZYV03      Asia            Bachelor's                  N   \n",
       "3  EZYV04      Asia            Bachelor's                  N   \n",
       "4  EZYV05    Africa              Master's                  Y   \n",
       "\n",
       "  requires_job_training  no_of_employees  yr_of_estab region_of_employment  \\\n",
       "0                     N            14513         2007                 West   \n",
       "1                     N             2412         2002            Northeast   \n",
       "2                     Y            44444         2008                 West   \n",
       "3                     N               98         1897                 West   \n",
       "4                     N             1082         2005                South   \n",
       "\n",
       "   prevailing_wage unit_of_wage full_time_position case_status  \n",
       "0         592.2029         Hour                  Y      Denied  \n",
       "1       83425.6500         Year                  Y   Certified  \n",
       "2      122996.8600         Year                  Y      Denied  \n",
       "3       83434.0300         Year                  Y      Denied  \n",
       "4      149907.3900         Year                  Y   Certified  "
      ]
     },
     "execution_count": 3,
     "metadata": {},
     "output_type": "execute_result"
    }
   ],
   "source": [
    "visa_df=pd.read_csv(r\"C:\\Users\\avina\\OneDrive\\Documents\\NareshIT\\DATA SCIENCE & AI\\Data files\\Visadataset.csv\")\n",
    "visa_df.head()"
   ]
  },
  {
   "cell_type": "markdown",
   "id": "750e9ca2-26a1-4ed9-8c25-c218cb586191",
   "metadata": {},
   "source": [
    "**Select the numberical coloumn**"
   ]
  },
  {
   "cell_type": "code",
   "execution_count": 4,
   "id": "f6ae2197-c8b5-4d34-98f7-835100ab9404",
   "metadata": {},
   "outputs": [
    {
     "data": {
      "text/plain": [
       "Index(['no_of_employees', 'yr_of_estab', 'prevailing_wage'], dtype='object')"
      ]
     },
     "execution_count": 4,
     "metadata": {},
     "output_type": "execute_result"
    }
   ],
   "source": [
    "visa_df.select_dtypes(exclude='object').columns"
   ]
  },
  {
   "cell_type": "markdown",
   "id": "cdad7215-0798-49a7-af4b-162ee74b4d5a",
   "metadata": {},
   "source": [
    "**prevailing_wage**"
   ]
  },
  {
   "cell_type": "code",
   "execution_count": 5,
   "id": "eb7795d5-da9b-4412-b15f-f37cb828b8fa",
   "metadata": {},
   "outputs": [
    {
     "data": {
      "text/html": [
       "<div>\n",
       "<style scoped>\n",
       "    .dataframe tbody tr th:only-of-type {\n",
       "        vertical-align: middle;\n",
       "    }\n",
       "\n",
       "    .dataframe tbody tr th {\n",
       "        vertical-align: top;\n",
       "    }\n",
       "\n",
       "    .dataframe thead th {\n",
       "        text-align: right;\n",
       "    }\n",
       "</style>\n",
       "<table border=\"1\" class=\"dataframe\">\n",
       "  <thead>\n",
       "    <tr style=\"text-align: right;\">\n",
       "      <th></th>\n",
       "      <th>prevailing_wage</th>\n",
       "    </tr>\n",
       "  </thead>\n",
       "  <tbody>\n",
       "    <tr>\n",
       "      <th>0</th>\n",
       "      <td>592.2029</td>\n",
       "    </tr>\n",
       "    <tr>\n",
       "      <th>1</th>\n",
       "      <td>83425.6500</td>\n",
       "    </tr>\n",
       "    <tr>\n",
       "      <th>2</th>\n",
       "      <td>122996.8600</td>\n",
       "    </tr>\n",
       "    <tr>\n",
       "      <th>3</th>\n",
       "      <td>83434.0300</td>\n",
       "    </tr>\n",
       "    <tr>\n",
       "      <th>4</th>\n",
       "      <td>149907.3900</td>\n",
       "    </tr>\n",
       "    <tr>\n",
       "      <th>...</th>\n",
       "      <td>...</td>\n",
       "    </tr>\n",
       "    <tr>\n",
       "      <th>25475</th>\n",
       "      <td>77092.5700</td>\n",
       "    </tr>\n",
       "    <tr>\n",
       "      <th>25476</th>\n",
       "      <td>279174.7900</td>\n",
       "    </tr>\n",
       "    <tr>\n",
       "      <th>25477</th>\n",
       "      <td>146298.8500</td>\n",
       "    </tr>\n",
       "    <tr>\n",
       "      <th>25478</th>\n",
       "      <td>86154.7700</td>\n",
       "    </tr>\n",
       "    <tr>\n",
       "      <th>25479</th>\n",
       "      <td>70876.9100</td>\n",
       "    </tr>\n",
       "  </tbody>\n",
       "</table>\n",
       "<p>25480 rows × 1 columns</p>\n",
       "</div>"
      ],
      "text/plain": [
       "       prevailing_wage\n",
       "0             592.2029\n",
       "1           83425.6500\n",
       "2          122996.8600\n",
       "3           83434.0300\n",
       "4          149907.3900\n",
       "...                ...\n",
       "25475       77092.5700\n",
       "25476      279174.7900\n",
       "25477      146298.8500\n",
       "25478       86154.7700\n",
       "25479       70876.9100\n",
       "\n",
       "[25480 rows x 1 columns]"
      ]
     },
     "execution_count": 5,
     "metadata": {},
     "output_type": "execute_result"
    }
   ],
   "source": [
    "visa_df[[\"prevailing_wage\"]]"
   ]
  },
  {
   "cell_type": "markdown",
   "id": "0b3e2c7d-8f9b-483c-8782-d0972d64a3a7",
   "metadata": {},
   "source": [
    "- len\n",
    "- max\n",
    "- min\n",
    "- mean\n",
    "- median\n",
    "- std\n",
    "- 75%\n",
    "- 50%\n",
    "- 25%"
   ]
  },
  {
   "cell_type": "code",
   "execution_count": 6,
   "id": "b2126e66-dd43-4fe6-aa02-16d44b201d0f",
   "metadata": {},
   "outputs": [
    {
     "data": {
      "text/plain": [
       "25480"
      ]
     },
     "execution_count": 6,
     "metadata": {},
     "output_type": "execute_result"
    }
   ],
   "source": [
    "len(visa_df[[\"prevailing_wage\"]])"
   ]
  },
  {
   "cell_type": "markdown",
   "id": "c3526c19-1f20-4846-be80-05cf5e1ef222",
   "metadata": {},
   "source": [
    "**max**"
   ]
  },
  {
   "cell_type": "code",
   "execution_count": 7,
   "id": "e6d8ce4e-9d20-4a07-b80d-d0bd1e3ddc2d",
   "metadata": {},
   "outputs": [
    {
     "data": {
      "text/plain": [
       "319210.27"
      ]
     },
     "execution_count": 7,
     "metadata": {},
     "output_type": "execute_result"
    }
   ],
   "source": [
    "max(visa_df[\"prevailing_wage\"])"
   ]
  },
  {
   "cell_type": "code",
   "execution_count": 8,
   "id": "03e5905e-68bd-48ed-ad55-48dad616db04",
   "metadata": {},
   "outputs": [
    {
     "data": {
      "text/plain": [
       "319210.27"
      ]
     },
     "execution_count": 8,
     "metadata": {},
     "output_type": "execute_result"
    }
   ],
   "source": [
    "visa_df[\"prevailing_wage\"].max() #pandas"
   ]
  },
  {
   "cell_type": "code",
   "execution_count": 9,
   "id": "99ae7dc2-1fc2-457d-8d1d-7ee0223d0b06",
   "metadata": {},
   "outputs": [
    {
     "data": {
      "text/plain": [
       "319210.27"
      ]
     },
     "execution_count": 9,
     "metadata": {},
     "output_type": "execute_result"
    }
   ],
   "source": [
    "np.max(visa_df[\"prevailing_wage\"])  #numpy"
   ]
  },
  {
   "cell_type": "markdown",
   "id": "527bdec7-58ba-40ce-aa90-f1c4eb080b80",
   "metadata": {},
   "source": [
    "**Min**"
   ]
  },
  {
   "cell_type": "code",
   "execution_count": 10,
   "id": "a29e6a45-75d1-4ace-86a7-1e92708e19f8",
   "metadata": {},
   "outputs": [
    {
     "data": {
      "text/plain": [
       "2.1367"
      ]
     },
     "execution_count": 10,
     "metadata": {},
     "output_type": "execute_result"
    }
   ],
   "source": [
    "min(visa_df[\"prevailing_wage\"])"
   ]
  },
  {
   "cell_type": "code",
   "execution_count": 11,
   "id": "15439e58-afc4-4242-ace7-5787184c149c",
   "metadata": {},
   "outputs": [
    {
     "data": {
      "text/plain": [
       "2.1367"
      ]
     },
     "execution_count": 11,
     "metadata": {},
     "output_type": "execute_result"
    }
   ],
   "source": [
    "visa_df[\"prevailing_wage\"].min() #pandas"
   ]
  },
  {
   "cell_type": "code",
   "execution_count": 12,
   "id": "3f8b4e72-b2e6-4dc6-8772-762854337429",
   "metadata": {},
   "outputs": [
    {
     "data": {
      "text/plain": [
       "2.1367"
      ]
     },
     "execution_count": 12,
     "metadata": {},
     "output_type": "execute_result"
    }
   ],
   "source": [
    "np.min(visa_df[\"prevailing_wage\"]) #numpy"
   ]
  },
  {
   "cell_type": "markdown",
   "id": "16c199c9-b195-43aa-aa22-3fba6dcfce9d",
   "metadata": {},
   "source": [
    "**Mean**"
   ]
  },
  {
   "cell_type": "code",
   "execution_count": 13,
   "id": "e1659942-e756-4fbc-a29d-502a1f5072cc",
   "metadata": {},
   "outputs": [
    {
     "data": {
      "text/plain": [
       "74455.81459209183"
      ]
     },
     "execution_count": 13,
     "metadata": {},
     "output_type": "execute_result"
    }
   ],
   "source": [
    "visa_df[\"prevailing_wage\"].mean()"
   ]
  },
  {
   "cell_type": "code",
   "execution_count": 14,
   "id": "04d95ac8-623c-4ba4-8681-cee27563af2b",
   "metadata": {},
   "outputs": [
    {
     "data": {
      "text/plain": [
       "74455.81459209183"
      ]
     },
     "execution_count": 14,
     "metadata": {},
     "output_type": "execute_result"
    }
   ],
   "source": [
    "np.mean(visa_df[\"prevailing_wage\"])"
   ]
  },
  {
   "cell_type": "markdown",
   "id": "e80a59cc-ec78-46e9-b138-36026c042464",
   "metadata": {},
   "source": [
    "**Median**"
   ]
  },
  {
   "cell_type": "code",
   "execution_count": 15,
   "id": "e2606e62-d46a-41b9-a7d1-231808ab60dd",
   "metadata": {},
   "outputs": [
    {
     "data": {
      "text/plain": [
       "70308.20999999999"
      ]
     },
     "execution_count": 15,
     "metadata": {},
     "output_type": "execute_result"
    }
   ],
   "source": [
    "visa_df[\"prevailing_wage\"].median()"
   ]
  },
  {
   "cell_type": "code",
   "execution_count": 16,
   "id": "2b17d61f-624f-409e-9b08-461f6a7f5790",
   "metadata": {},
   "outputs": [
    {
     "data": {
      "text/plain": [
       "70308.20999999999"
      ]
     },
     "execution_count": 16,
     "metadata": {},
     "output_type": "execute_result"
    }
   ],
   "source": [
    "np.median(visa_df[\"prevailing_wage\"])"
   ]
  },
  {
   "cell_type": "markdown",
   "id": "58fe0d81-53f9-4fd4-930b-88a54546f970",
   "metadata": {},
   "source": [
    "**Standard Daviation**"
   ]
  },
  {
   "cell_type": "code",
   "execution_count": 17,
   "id": "5d85043a-efc7-4912-b208-75e0fcd14224",
   "metadata": {},
   "outputs": [
    {
     "data": {
      "text/plain": [
       "52815.94232687357"
      ]
     },
     "execution_count": 17,
     "metadata": {},
     "output_type": "execute_result"
    }
   ],
   "source": [
    "visa_df[\"prevailing_wage\"].std()"
   ]
  },
  {
   "cell_type": "code",
   "execution_count": 27,
   "id": "cc3e9494-d9de-4cf3-8fcf-7dea3c4ff564",
   "metadata": {},
   "outputs": [
    {
     "data": {
      "text/plain": [
       "52814.90589711402"
      ]
     },
     "execution_count": 27,
     "metadata": {},
     "output_type": "execute_result"
    }
   ],
   "source": [
    "np.std(visa_df[\"prevailing_wage\"])"
   ]
  },
  {
   "cell_type": "code",
   "execution_count": 25,
   "id": "e02afc48-07b2-40d4-84e8-0bf0b8336221",
   "metadata": {},
   "outputs": [],
   "source": [
    "#All together\n",
    "wage_count= len(visa_df[[\"prevailing_wage\"]])\n",
    "wage_min= visa_df[\"prevailing_wage\"].min()\n",
    "wage_max= visa_df[\"prevailing_wage\"].max()\n",
    "wage_mean= visa_df[\"prevailing_wage\"].mean()\n",
    "wage_median= visa_df[\"prevailing_wage\"].median()\n",
    "wage_std= visa_df[\"prevailing_wage\"].std()"
   ]
  },
  {
   "cell_type": "code",
   "execution_count": 26,
   "id": "5d9a87a6-0178-457a-8b7f-b62706c5b08f",
   "metadata": {},
   "outputs": [
    {
     "data": {
      "text/html": [
       "<div>\n",
       "<style scoped>\n",
       "    .dataframe tbody tr th:only-of-type {\n",
       "        vertical-align: middle;\n",
       "    }\n",
       "\n",
       "    .dataframe tbody tr th {\n",
       "        vertical-align: top;\n",
       "    }\n",
       "\n",
       "    .dataframe thead th {\n",
       "        text-align: right;\n",
       "    }\n",
       "</style>\n",
       "<table border=\"1\" class=\"dataframe\">\n",
       "  <thead>\n",
       "    <tr style=\"text-align: right;\">\n",
       "      <th></th>\n",
       "      <th>prevailing_wage</th>\n",
       "    </tr>\n",
       "  </thead>\n",
       "  <tbody>\n",
       "    <tr>\n",
       "      <th>count</th>\n",
       "      <td>25480.00</td>\n",
       "    </tr>\n",
       "    <tr>\n",
       "      <th>min</th>\n",
       "      <td>2.14</td>\n",
       "    </tr>\n",
       "    <tr>\n",
       "      <th>max</th>\n",
       "      <td>319210.27</td>\n",
       "    </tr>\n",
       "    <tr>\n",
       "      <th>mean</th>\n",
       "      <td>74455.81</td>\n",
       "    </tr>\n",
       "    <tr>\n",
       "      <th>median</th>\n",
       "      <td>70308.21</td>\n",
       "    </tr>\n",
       "    <tr>\n",
       "      <th>std</th>\n",
       "      <td>52815.94</td>\n",
       "    </tr>\n",
       "  </tbody>\n",
       "</table>\n",
       "</div>"
      ],
      "text/plain": [
       "        prevailing_wage\n",
       "count          25480.00\n",
       "min                2.14\n",
       "max           319210.27\n",
       "mean           74455.81\n",
       "median         70308.21\n",
       "std            52815.94"
      ]
     },
     "execution_count": 26,
     "metadata": {},
     "output_type": "execute_result"
    }
   ],
   "source": [
    "wage_count= round(len(visa_df[[\"prevailing_wage\"]]),2)\n",
    "wage_min= round(visa_df[\"prevailing_wage\"].min(),2)\n",
    "wage_max= round(visa_df[\"prevailing_wage\"].max(),2)\n",
    "wage_mean= round(visa_df[\"prevailing_wage\"].mean(),2)\n",
    "wage_median= round(visa_df[\"prevailing_wage\"].median(),2)\n",
    "wage_std= round(visa_df[\"prevailing_wage\"].std(),2)\n",
    "index_val=['count','min','max','mean','median','std']\n",
    "list_values=[wage_count,wage_min,wage_max,wage_mean,wage_median,wage_std]\n",
    "pd.DataFrame(list_values,\n",
    "             columns=['prevailing_wage'],\n",
    "            index=index_val)"
   ]
  },
  {
   "cell_type": "markdown",
   "id": "e939d536-18ba-4007-a22f-d4b83e798c1c",
   "metadata": {},
   "source": [
    "**Percentile and Quantile**\n",
    "\n",
    "- Percentile\n",
    "    - np.percentile()\n",
    "    - it will take two arguments\n",
    "    - one is data: a\n",
    "    - another one is percentile: q the values varies from 0-100\n",
    "    - if you want 50p data q=50\n",
    "  \n",
    "- Quantile\n",
    "    - np.quantile()\n",
    "    - it will take two arguments\n",
    "    - one is data: a\n",
    "    - another one is percentile: q the values varies from 0-1\n",
    "    - if you want 50p data q=0.5"
   ]
  },
  {
   "cell_type": "markdown",
   "id": "75dda817-e9ec-45c2-a886-a2bad5895da5",
   "metadata": {},
   "source": [
    "**Percintile**"
   ]
  },
  {
   "cell_type": "markdown",
   "id": "4e72c502-84eb-4cf0-b20b-f291f60f35fa",
   "metadata": {},
   "source": [
    "**25p-50p-75p**"
   ]
  },
  {
   "cell_type": "code",
   "execution_count": 27,
   "id": "c08063a6-8318-4244-abe9-dbe2f50f4df3",
   "metadata": {},
   "outputs": [
    {
     "name": "stdout",
     "output_type": "stream",
     "text": [
      "The 25% data is:34015.48\n",
      "The 50% data is:70308.21\n",
      "The 75% data is:107735.51\n"
     ]
    }
   ],
   "source": [
    "wage_25p=round(np.percentile(visa_df['prevailing_wage'],25),2)\n",
    "wage_50p=round(np.percentile(visa_df['prevailing_wage'],50),2)\n",
    "wage_75p=round(np.percentile(visa_df['prevailing_wage'],75),2)\n",
    "\n",
    "print(f\"The 25% data is:{wage_25p}\") \n",
    "print(f\"The 50% data is:{wage_50p}\")\n",
    "print(f\"The 75% data is:{wage_75p}\")"
   ]
  },
  {
   "cell_type": "markdown",
   "id": "3da43bf8-76d3-4c32-aebc-653d5a574530",
   "metadata": {},
   "source": [
    "**Quantile**"
   ]
  },
  {
   "cell_type": "code",
   "execution_count": 20,
   "id": "0cfa4093-e559-41c9-a5a7-b926158385a1",
   "metadata": {},
   "outputs": [
    {
     "name": "stdout",
     "output_type": "stream",
     "text": [
      "The 25 quantile data is:34015.48\n",
      "The 50 quantile data is:70308.21\n",
      "The 75 quantile data is:107735.51\n"
     ]
    }
   ],
   "source": [
    "wage_25q=round(np.quantile(visa_df['prevailing_wage'],0.25),2)\n",
    "wage_50q=round(np.quantile(visa_df['prevailing_wage'],0.5),2)\n",
    "wage_75q=round(np.quantile(visa_df['prevailing_wage'],0.75),2)\n",
    "\n",
    "print(f\"The 25 quantile data is:{wage_25q}\") \n",
    "print(f\"The 50 quantile data is:{wage_50q}\")\n",
    "print(f\"The 75 quantile data is:{wage_75q}\")"
   ]
  },
  {
   "cell_type": "markdown",
   "id": "41e9851f-4e19-42d2-a88f-220a0020fa03",
   "metadata": {},
   "source": [
    "-understanding the percentiles\n",
    "\n",
    "- total employees- 25480"
   ]
  },
  {
   "cell_type": "code",
   "execution_count": 28,
   "id": "9820dac2-facc-4518-8074-44cb6c16e1d6",
   "metadata": {},
   "outputs": [
    {
     "data": {
      "text/plain": [
       "6370"
      ]
     },
     "execution_count": 28,
     "metadata": {},
     "output_type": "execute_result"
    }
   ],
   "source": [
    "con= visa_df['prevailing_wage']<34015\n",
    "len(visa_df[con])   \n",
    "\n",
    "#25*25480/100"
   ]
  },
  {
   "cell_type": "code",
   "execution_count": 29,
   "id": "4af11ac6-c4c0-44e5-9e74-aeda840ccfee",
   "metadata": {},
   "outputs": [
    {
     "data": {
      "text/plain": [
       "12740"
      ]
     },
     "execution_count": 29,
     "metadata": {},
     "output_type": "execute_result"
    }
   ],
   "source": [
    "con=visa_df['prevailing_wage']<70308\n",
    "len(visa_df[con])\n",
    "#50*25480/100"
   ]
  },
  {
   "cell_type": "code",
   "execution_count": 30,
   "id": "a0bfcc47-06f0-430b-ac4a-8a9a86c06c0e",
   "metadata": {},
   "outputs": [
    {
     "data": {
      "text/plain": [
       "19110"
      ]
     },
     "execution_count": 30,
     "metadata": {},
     "output_type": "execute_result"
    }
   ],
   "source": [
    "con=visa_df['prevailing_wage']<107735\n",
    "len(visa_df[con])\n",
    "#75*25480/100"
   ]
  },
  {
   "cell_type": "markdown",
   "id": "8f43e604-e736-4793-8a77-b6cf169fadb3",
   "metadata": {},
   "source": [
    "**Emperical rule (68-95-99.7)**\n"
   ]
  },
  {
   "cell_type": "markdown",
   "id": "3c784795-bbda-4eed-9ec8-6896146229c9",
   "metadata": {},
   "source": [
    "- First calculate mean value\n",
    "- second value std value\n",
    "- con1: mean-1*std\n",
    "- con2: mean+1*std\n",
    "- if you apply above conditions on wage data the output count should be equal to 68percentile data\n",
    "- 68% of total employees: 17326\n"
   ]
  },
  {
   "cell_type": "markdown",
   "id": "526737ee-9ea8-4332-8d8c-7a592baa451b",
   "metadata": {},
   "source": [
    "**68** (mean-+1*std)"
   ]
  },
  {
   "cell_type": "code",
   "execution_count": 24,
   "id": "f09eee5a-c8c1-4c26-84e8-6b00a516240e",
   "metadata": {},
   "outputs": [
    {
     "data": {
      "text/plain": [
       "17326.4"
      ]
     },
     "execution_count": 24,
     "metadata": {},
     "output_type": "execute_result"
    }
   ],
   "source": [
    "68*25480/100"
   ]
  },
  {
   "cell_type": "code",
   "execution_count": 31,
   "id": "d004eb8e-36ad-45dd-a07b-606b75e6dc3f",
   "metadata": {},
   "outputs": [
    {
     "data": {
      "text/plain": [
       "21639.869999999995"
      ]
     },
     "execution_count": 31,
     "metadata": {},
     "output_type": "execute_result"
    }
   ],
   "source": [
    "v1=wage_mean-1*wage_std\n",
    "v1"
   ]
  },
  {
   "cell_type": "code",
   "execution_count": 32,
   "id": "7a6840b3-b6f6-44b0-812b-bbf8caf95755",
   "metadata": {},
   "outputs": [
    {
     "data": {
      "text/plain": [
       "127271.75"
      ]
     },
     "execution_count": 32,
     "metadata": {},
     "output_type": "execute_result"
    }
   ],
   "source": [
    "v2=wage_mean+1*wage_std\n",
    "v2"
   ]
  },
  {
   "cell_type": "code",
   "execution_count": 33,
   "id": "f9a33206-da4a-414e-9363-76c8901948a1",
   "metadata": {},
   "outputs": [
    {
     "data": {
      "text/plain": [
       "17171"
      ]
     },
     "execution_count": 33,
     "metadata": {},
     "output_type": "execute_result"
    }
   ],
   "source": [
    "con1=visa_df['prevailing_wage']>v1\n",
    "con2=visa_df['prevailing_wage']<v2\n",
    "count1=visa_df[con1 & con2]\n",
    "len(count1)"
   ]
  },
  {
   "cell_type": "code",
   "execution_count": null,
   "id": "f607e138-88e0-4012-bf61-51cfed5f886f",
   "metadata": {},
   "outputs": [],
   "source": []
  },
  {
   "cell_type": "markdown",
   "id": "03168f8c-6bc9-454f-ae84-01e493216d66",
   "metadata": {},
   "source": [
    "**95**"
   ]
  },
  {
   "cell_type": "code",
   "execution_count": 104,
   "id": "ac22c84d-9db9-414e-a75c-88de54e96d05",
   "metadata": {},
   "outputs": [
    {
     "data": {
      "text/plain": [
       "24206.0"
      ]
     },
     "execution_count": 104,
     "metadata": {},
     "output_type": "execute_result"
    }
   ],
   "source": [
    "95*25480/100"
   ]
  },
  {
   "cell_type": "code",
   "execution_count": 68,
   "id": "4f98b4dd-ee6a-476d-b0e0-81f6f6a5f343",
   "metadata": {},
   "outputs": [
    {
     "data": {
      "text/plain": [
       "-31176.070000000007"
      ]
     },
     "execution_count": 68,
     "metadata": {},
     "output_type": "execute_result"
    }
   ],
   "source": [
    "w1=wage_mean-2*wage_std\n",
    "w1"
   ]
  },
  {
   "cell_type": "code",
   "execution_count": 69,
   "id": "a7c95f22-2292-496c-845a-34f30ec36b7f",
   "metadata": {},
   "outputs": [
    {
     "data": {
      "text/plain": [
       "180087.69"
      ]
     },
     "execution_count": 69,
     "metadata": {},
     "output_type": "execute_result"
    }
   ],
   "source": [
    "w2=wage_mean+2*wage_std\n",
    "w2"
   ]
  },
  {
   "cell_type": "code",
   "execution_count": 128,
   "id": "cbe7ead0-0378-4ee2-b920-b013404a0c28",
   "metadata": {},
   "outputs": [
    {
     "data": {
      "text/plain": [
       "24582"
      ]
     },
     "execution_count": 128,
     "metadata": {},
     "output_type": "execute_result"
    }
   ],
   "source": [
    "cond1=visa_df['prevailing_wage']>w1\n",
    "cond2=visa_df['prevailing_wage']<w2\n",
    "count3=visa_df[cond1 & cond2]\n",
    "len(count3)"
   ]
  },
  {
   "cell_type": "markdown",
   "id": "fd89e674-83b0-48e8-9768-0f968fd8ab17",
   "metadata": {},
   "source": [
    "**99.70**"
   ]
  },
  {
   "cell_type": "code",
   "execution_count": 129,
   "id": "279ba980-72f8-4eb6-9ef6-e96108992cda",
   "metadata": {},
   "outputs": [
    {
     "data": {
      "text/plain": [
       "25403.56"
      ]
     },
     "execution_count": 129,
     "metadata": {},
     "output_type": "execute_result"
    }
   ],
   "source": [
    "99.70*25480/100"
   ]
  },
  {
   "cell_type": "code",
   "execution_count": 36,
   "id": "c7ffc911-4cd0-412e-9e10-ae6647d822a6",
   "metadata": {},
   "outputs": [
    {
     "data": {
      "text/plain": [
       "-83992.01000000001"
      ]
     },
     "execution_count": 36,
     "metadata": {},
     "output_type": "execute_result"
    }
   ],
   "source": [
    "z1=wage_mean-3*wage_std\n",
    "z1"
   ]
  },
  {
   "cell_type": "code",
   "execution_count": 35,
   "id": "d708c8a1-65e0-4ea1-987b-31d5b1827b32",
   "metadata": {},
   "outputs": [
    {
     "data": {
      "text/plain": [
       "232903.63"
      ]
     },
     "execution_count": 35,
     "metadata": {},
     "output_type": "execute_result"
    }
   ],
   "source": [
    "z2=wage_mean+3*wage_std\n",
    "z2"
   ]
  },
  {
   "cell_type": "code",
   "execution_count": 37,
   "id": "3d299de8-9b94-4530-acc2-dd234760dbfe",
   "metadata": {},
   "outputs": [
    {
     "data": {
      "text/plain": [
       "25186"
      ]
     },
     "execution_count": 37,
     "metadata": {},
     "output_type": "execute_result"
    }
   ],
   "source": [
    "cond3=visa_df['prevailing_wage']>z1\n",
    "cond4=visa_df['prevailing_wage']<z2\n",
    "count4=visa_df[cond3&cond4]\n",
    "len(count4)"
   ]
  },
  {
   "cell_type": "code",
   "execution_count": null,
   "id": "4b86cea3-817b-46cc-8a09-4f9f443be0c1",
   "metadata": {},
   "outputs": [],
   "source": []
  },
  {
   "cell_type": "markdown",
   "id": "ba34500a-2cba-43cd-8ae7-13df5c8164ca",
   "metadata": {},
   "source": [
    "**No of employee**"
   ]
  },
  {
   "cell_type": "code",
   "execution_count": 57,
   "id": "83d713a6-8663-4c7e-ae4f-97131ea937b6",
   "metadata": {},
   "outputs": [
    {
     "data": {
      "text/html": [
       "<div>\n",
       "<style scoped>\n",
       "    .dataframe tbody tr th:only-of-type {\n",
       "        vertical-align: middle;\n",
       "    }\n",
       "\n",
       "    .dataframe tbody tr th {\n",
       "        vertical-align: top;\n",
       "    }\n",
       "\n",
       "    .dataframe thead th {\n",
       "        text-align: right;\n",
       "    }\n",
       "</style>\n",
       "<table border=\"1\" class=\"dataframe\">\n",
       "  <thead>\n",
       "    <tr style=\"text-align: right;\">\n",
       "      <th></th>\n",
       "      <th>prevailing_wage</th>\n",
       "    </tr>\n",
       "  </thead>\n",
       "  <tbody>\n",
       "    <tr>\n",
       "      <th>count</th>\n",
       "      <td>25480.000000</td>\n",
       "    </tr>\n",
       "    <tr>\n",
       "      <th>min</th>\n",
       "      <td>2.136700</td>\n",
       "    </tr>\n",
       "    <tr>\n",
       "      <th>max</th>\n",
       "      <td>319210.270000</td>\n",
       "    </tr>\n",
       "    <tr>\n",
       "      <th>mean</th>\n",
       "      <td>74455.814592</td>\n",
       "    </tr>\n",
       "    <tr>\n",
       "      <th>median</th>\n",
       "      <td>70308.210000</td>\n",
       "    </tr>\n",
       "    <tr>\n",
       "      <th>std</th>\n",
       "      <td>52815.942327</td>\n",
       "    </tr>\n",
       "    <tr>\n",
       "      <th>25%</th>\n",
       "      <td>34015.480000</td>\n",
       "    </tr>\n",
       "    <tr>\n",
       "      <th>50%</th>\n",
       "      <td>70308.210000</td>\n",
       "    </tr>\n",
       "    <tr>\n",
       "      <th>75%</th>\n",
       "      <td>107735.510000</td>\n",
       "    </tr>\n",
       "  </tbody>\n",
       "</table>\n",
       "</div>"
      ],
      "text/plain": [
       "        prevailing_wage\n",
       "count      25480.000000\n",
       "min            2.136700\n",
       "max       319210.270000\n",
       "mean       74455.814592\n",
       "median     70308.210000\n",
       "std        52815.942327\n",
       "25%        34015.480000\n",
       "50%        70308.210000\n",
       "75%       107735.510000"
      ]
     },
     "execution_count": 57,
     "metadata": {},
     "output_type": "execute_result"
    }
   ],
   "source": [
    "wage_count= len(visa_df[[\"prevailing_wage\"]])\n",
    "wage_min= visa_df[\"prevailing_wage\"].min()\n",
    "wage_max= visa_df[\"prevailing_wage\"].max()\n",
    "wage_mean= visa_df[\"prevailing_wage\"].mean()\n",
    "wage_median= visa_df[\"prevailing_wage\"].median()\n",
    "wage_std= visa_df[\"prevailing_wage\"].std()\n",
    "\n",
    "wage_25q=round(np.quantile(visa_df['prevailing_wage'],0.25),2)\n",
    "wage_50q=round(np.quantile(visa_df['prevailing_wage'],0.5),2)\n",
    "wage_75q=round(np.quantile(visa_df['prevailing_wage'],0.75),2)\n",
    "\n",
    "list_values=[wage_count,wage_min,wage_max,\n",
    "             wage_mean,wage_median,wage_std,\n",
    "        wage_25q,wage_50q,wage_75q]\n",
    "index_val=['count','min','max',\n",
    "           'mean','median','std',\n",
    "           '25%','50%','75%']\n",
    "pd.DataFrame(list_values,\n",
    "             columns=['prevailing_wage'],\n",
    "            index=index_val)"
   ]
  },
  {
   "cell_type": "code",
   "execution_count": 66,
   "id": "d0d00b7a-274b-42cf-b9ab-db65cc881dbd",
   "metadata": {},
   "outputs": [
    {
     "data": {
      "text/html": [
       "<div>\n",
       "<style scoped>\n",
       "    .dataframe tbody tr th:only-of-type {\n",
       "        vertical-align: middle;\n",
       "    }\n",
       "\n",
       "    .dataframe tbody tr th {\n",
       "        vertical-align: top;\n",
       "    }\n",
       "\n",
       "    .dataframe thead th {\n",
       "        text-align: right;\n",
       "    }\n",
       "</style>\n",
       "<table border=\"1\" class=\"dataframe\">\n",
       "  <thead>\n",
       "    <tr style=\"text-align: right;\">\n",
       "      <th></th>\n",
       "      <th>no_of_employees</th>\n",
       "      <th>yr_of_estab</th>\n",
       "      <th>prevailing_wage</th>\n",
       "    </tr>\n",
       "  </thead>\n",
       "  <tbody>\n",
       "    <tr>\n",
       "      <th>count</th>\n",
       "      <td>25480.000000</td>\n",
       "      <td>25480.000000</td>\n",
       "      <td>25480.000000</td>\n",
       "    </tr>\n",
       "    <tr>\n",
       "      <th>min</th>\n",
       "      <td>-26.000000</td>\n",
       "      <td>1800.000000</td>\n",
       "      <td>2.136700</td>\n",
       "    </tr>\n",
       "    <tr>\n",
       "      <th>max</th>\n",
       "      <td>602069.000000</td>\n",
       "      <td>2016.000000</td>\n",
       "      <td>319210.270000</td>\n",
       "    </tr>\n",
       "    <tr>\n",
       "      <th>mean</th>\n",
       "      <td>5667.043210</td>\n",
       "      <td>1979.409929</td>\n",
       "      <td>74455.814592</td>\n",
       "    </tr>\n",
       "    <tr>\n",
       "      <th>median</th>\n",
       "      <td>2109.000000</td>\n",
       "      <td>1997.000000</td>\n",
       "      <td>70308.210000</td>\n",
       "    </tr>\n",
       "    <tr>\n",
       "      <th>std</th>\n",
       "      <td>22877.928848</td>\n",
       "      <td>42.366929</td>\n",
       "      <td>52815.942327</td>\n",
       "    </tr>\n",
       "    <tr>\n",
       "      <th>25%</th>\n",
       "      <td>1022.000000</td>\n",
       "      <td>1976.000000</td>\n",
       "      <td>34015.480000</td>\n",
       "    </tr>\n",
       "    <tr>\n",
       "      <th>50%</th>\n",
       "      <td>2109.000000</td>\n",
       "      <td>1997.000000</td>\n",
       "      <td>70308.210000</td>\n",
       "    </tr>\n",
       "    <tr>\n",
       "      <th>75%</th>\n",
       "      <td>3504.000000</td>\n",
       "      <td>2005.000000</td>\n",
       "      <td>107735.510000</td>\n",
       "    </tr>\n",
       "  </tbody>\n",
       "</table>\n",
       "</div>"
      ],
      "text/plain": [
       "        no_of_employees   yr_of_estab  prevailing_wage\n",
       "count      25480.000000  25480.000000     25480.000000\n",
       "min          -26.000000   1800.000000         2.136700\n",
       "max       602069.000000   2016.000000    319210.270000\n",
       "mean        5667.043210   1979.409929     74455.814592\n",
       "median      2109.000000   1997.000000     70308.210000\n",
       "std        22877.928848     42.366929     52815.942327\n",
       "25%         1022.000000   1976.000000     34015.480000\n",
       "50%         2109.000000   1997.000000     70308.210000\n",
       "75%         3504.000000   2005.000000    107735.510000"
      ]
     },
     "execution_count": 66,
     "metadata": {},
     "output_type": "execute_result"
    }
   ],
   "source": [
    "l1,l2,l3=[],[],[]\n",
    "cols=['no_of_employees','yr_of_estab','prevailing_wage']\n",
    "for i in cols:\n",
    "    countl= len(visa_df[[i]])\n",
    "    minn= visa_df[i].min()\n",
    "    maax= visa_df[i].max()\n",
    "    mean= visa_df[i].mean()\n",
    "    median= visa_df[i].median()\n",
    "    std= visa_df[i].std()\n",
    "\n",
    "    #####################################################################\n",
    "    p_25=round(np.quantile(visa_df[i],0.25),2)\n",
    "    p_50=round(np.quantile(visa_df[i],0.5),2)\n",
    "    p_75=round(np.quantile(visa_df[i],0.75),2)\n",
    "    \n",
    "    l1.append([countl,minn,maax,mean,median,std,p_25,p_50,p_75])\n",
    "\n",
    "index_val=['count','min','max',\n",
    "           'mean','median','std',\n",
    "           '25%','50%','75%']\n",
    "df=pd.DataFrame(l1,\n",
    "                columns=index_val,\n",
    "                index=cols).T\n",
    "df"
   ]
  },
  {
   "cell_type": "markdown",
   "id": "1bd2c132-2f49-4301-8781-451bac058a92",
   "metadata": {},
   "source": [
    "**describe**"
   ]
  },
  {
   "cell_type": "code",
   "execution_count": 68,
   "id": "dca281e4-025f-438a-b0a2-14a02f440a79",
   "metadata": {},
   "outputs": [
    {
     "data": {
      "text/html": [
       "<div>\n",
       "<style scoped>\n",
       "    .dataframe tbody tr th:only-of-type {\n",
       "        vertical-align: middle;\n",
       "    }\n",
       "\n",
       "    .dataframe tbody tr th {\n",
       "        vertical-align: top;\n",
       "    }\n",
       "\n",
       "    .dataframe thead th {\n",
       "        text-align: right;\n",
       "    }\n",
       "</style>\n",
       "<table border=\"1\" class=\"dataframe\">\n",
       "  <thead>\n",
       "    <tr style=\"text-align: right;\">\n",
       "      <th></th>\n",
       "      <th>no_of_employees</th>\n",
       "      <th>yr_of_estab</th>\n",
       "      <th>prevailing_wage</th>\n",
       "    </tr>\n",
       "  </thead>\n",
       "  <tbody>\n",
       "    <tr>\n",
       "      <th>count</th>\n",
       "      <td>25480.00</td>\n",
       "      <td>25480.00</td>\n",
       "      <td>25480.00</td>\n",
       "    </tr>\n",
       "    <tr>\n",
       "      <th>mean</th>\n",
       "      <td>5667.04</td>\n",
       "      <td>1979.41</td>\n",
       "      <td>74455.81</td>\n",
       "    </tr>\n",
       "    <tr>\n",
       "      <th>std</th>\n",
       "      <td>22877.93</td>\n",
       "      <td>42.37</td>\n",
       "      <td>52815.94</td>\n",
       "    </tr>\n",
       "    <tr>\n",
       "      <th>min</th>\n",
       "      <td>-26.00</td>\n",
       "      <td>1800.00</td>\n",
       "      <td>2.14</td>\n",
       "    </tr>\n",
       "    <tr>\n",
       "      <th>25%</th>\n",
       "      <td>1022.00</td>\n",
       "      <td>1976.00</td>\n",
       "      <td>34015.48</td>\n",
       "    </tr>\n",
       "    <tr>\n",
       "      <th>50%</th>\n",
       "      <td>2109.00</td>\n",
       "      <td>1997.00</td>\n",
       "      <td>70308.21</td>\n",
       "    </tr>\n",
       "    <tr>\n",
       "      <th>75%</th>\n",
       "      <td>3504.00</td>\n",
       "      <td>2005.00</td>\n",
       "      <td>107735.51</td>\n",
       "    </tr>\n",
       "    <tr>\n",
       "      <th>max</th>\n",
       "      <td>602069.00</td>\n",
       "      <td>2016.00</td>\n",
       "      <td>319210.27</td>\n",
       "    </tr>\n",
       "  </tbody>\n",
       "</table>\n",
       "</div>"
      ],
      "text/plain": [
       "       no_of_employees  yr_of_estab  prevailing_wage\n",
       "count         25480.00     25480.00         25480.00\n",
       "mean           5667.04      1979.41         74455.81\n",
       "std           22877.93        42.37         52815.94\n",
       "min             -26.00      1800.00             2.14\n",
       "25%            1022.00      1976.00         34015.48\n",
       "50%            2109.00      1997.00         70308.21\n",
       "75%            3504.00      2005.00        107735.51\n",
       "max          602069.00      2016.00        319210.27"
      ]
     },
     "execution_count": 68,
     "metadata": {},
     "output_type": "execute_result"
    }
   ],
   "source": [
    "a= visa_df.describe()\n",
    "round(a,2)"
   ]
  },
  {
   "cell_type": "markdown",
   "id": "7dce480c-8ed4-40bc-b601-549585928591",
   "metadata": {},
   "source": [
    "**Histogram**"
   ]
  },
  {
   "cell_type": "code",
   "execution_count": null,
   "id": "f992ac13-10cb-463c-a162-86a6ac3db9fa",
   "metadata": {},
   "outputs": [],
   "source": [
    "- Histogram can get by matplotlib\n",
    "- Histogram can get by seaborn also"
   ]
  },
  {
   "cell_type": "code",
   "execution_count": 74,
   "id": "23565480-0c84-42e0-99f3-3c8eb759adc7",
   "metadata": {},
   "outputs": [
    {
     "data": {
      "text/plain": [
       "(array([6038., 5504., 5681., 4551., 2334.,  624.,  373.,  240.,  114.,\n",
       "          21.]),\n",
       " array([2.13670000e+00, 3.19229500e+04, 6.38437634e+04, 9.57645767e+04,\n",
       "        1.27685390e+05, 1.59606203e+05, 1.91527017e+05, 2.23447830e+05,\n",
       "        2.55368643e+05, 2.87289457e+05, 3.19210270e+05]),\n",
       " <BarContainer object of 10 artists>)"
      ]
     },
     "execution_count": 74,
     "metadata": {},
     "output_type": "execute_result"
    },
    {
     "data": {
      "image/png": "[encoded data removed]",
      "text/plain": [
       "<Figure size 640x480 with 1 Axes>"
      ]
     },
     "metadata": {},
     "output_type": "display_data"
    }
   ],
   "source": [
    "import matplotlib.pyplot as plt\n",
    "plt.hist(visa_df['prevailing_wage'])\n"
   ]
  },
  {
   "cell_type": "markdown",
   "id": "57a28b4d-c188-4d29-9583-590be4e8ae47",
   "metadata": {},
   "source": [
    "from interval range\n",
    "- 2.13670000e+00 to 3.19229500e+04\n",
    "  - 6038 members have salary\n",
    "- 6.38437634e+04 to 9.57645767e+04,\n",
    "  - 5504 members have salary\n",
    "- Histogram will give 3 outputs:\n",
    "  - frequency\n",
    "     - in each interval range how many obeservations are there\n",
    "- intervals\n",
    "    - interval range\n",
    "- number of intervals"
   ]
  },
  {
   "cell_type": "code",
   "execution_count": null,
   "id": "e8fbb475-f762-48f3-99b4-30045ef57887",
   "metadata": {},
   "outputs": [],
   "source": []
  },
  {
   "cell_type": "code",
   "execution_count": null,
   "id": "ac3d9ad9-f3b0-4daa-afd3-07999f69d1dd",
   "metadata": {},
   "outputs": [],
   "source": []
  },
  {
   "cell_type": "code",
   "execution_count": 78,
   "id": "ea58b917-fa10-46e5-b9fe-ad7d46c037b6",
   "metadata": {},
   "outputs": [
    {
     "data": {
      "text/plain": [
       "(2.1367, 31922.95)"
      ]
     },
     "execution_count": 78,
     "metadata": {},
     "output_type": "execute_result"
    }
   ],
   "source": [
    " 2.13670000e+00,3.19229500e+04"
   ]
  },
  {
   "cell_type": "code",
   "execution_count": 80,
   "id": "976d1755-7790-42c0-8415-5449cfd63864",
   "metadata": {},
   "outputs": [
    {
     "data": {
      "text/plain": [
       "6038"
      ]
     },
     "execution_count": 80,
     "metadata": {},
     "output_type": "execute_result"
    }
   ],
   "source": [
    "con1=visa_df['prevailing_wage']>=2.1367\n",
    "con2=visa_df['prevailing_wage']<31922.95\n",
    "len(visa_df[con1&con2])"
   ]
  },
  {
   "cell_type": "code",
   "execution_count": 81,
   "id": "3108e5fd-2c7c-4864-8966-f0c43a21c29d",
   "metadata": {},
   "outputs": [
    {
     "data": {
      "text/plain": [
       "(63843.7634, 95764.5767)"
      ]
     },
     "execution_count": 81,
     "metadata": {},
     "output_type": "execute_result"
    }
   ],
   "source": [
    "6.38437634e+04, 9.57645767e+04"
   ]
  },
  {
   "cell_type": "code",
   "execution_count": 85,
   "id": "3abf1af9-d642-4964-94b8-4524159505cb",
   "metadata": {},
   "outputs": [
    {
     "name": "stdout",
     "output_type": "stream",
     "text": [
      "<BarContainer object of 40 artists>\n"
     ]
    },
    {
     "data": {
      "image/png": "[encoded data removed]",
      "text/plain": [
       "<Figure size 640x480 with 1 Axes>"
      ]
     },
     "metadata": {},
     "output_type": "display_data"
    }
   ],
   "source": [
    "f,i,n=plt.hist(visa_df['prevailing_wage'],\n",
    "               bins=40)\n",
    "print(n)"
   ]
  },
  {
   "cell_type": "code",
   "execution_count": 92,
   "id": "d6a17a08-e2bf-48f8-b306-da228e87edb2",
   "metadata": {},
   "outputs": [
    {
     "data": {
      "image/png": "[encoded data removed]",
      "text/plain": [
       "<Figure size 1800x300 with 3 Axes>"
      ]
     },
     "metadata": {},
     "output_type": "display_data"
    }
   ],
   "source": [
    "plt.figure(figsize=(18,3))\n",
    "plt.subplot(1,3,1)\n",
    "plt.hist(visa_df['prevailing_wage'],\n",
    "               bins=40)\n",
    "plt.title(\"Histogram\")\n",
    "plt.xlabel(\"Class Interval\")\n",
    "plt.ylabel(\"Count\")\n",
    "\n",
    "plt.subplot(1,3,2)\n",
    "plt.hist(visa_df['prevailing_wage'],\n",
    "               bins=40)\n",
    "plt.title(\"Histogram\")\n",
    "plt.xlabel(\"Class Interval\")\n",
    "plt.ylabel(\"Count\")\n",
    "\n",
    "plt.subplot(1,3,3)\n",
    "plt.hist(visa_df['prevailing_wage'],\n",
    "               bins=40)\n",
    "plt.title(\"Histogram\")\n",
    "plt.xlabel(\"Class Interval\")\n",
    "plt.ylabel(\"Count\")\n",
    "plt.show()"
   ]
  },
  {
   "cell_type": "code",
   "execution_count": 94,
   "id": "069a2a78-8f3b-41f8-a674-d740b8ddec54",
   "metadata": {},
   "outputs": [
    {
     "data": {
      "image/png": "[encoded data removed]",
      "text/plain": [
       "<Figure size 1800x300 with 3 Axes>"
      ]
     },
     "metadata": {},
     "output_type": "display_data"
    }
   ],
   "source": [
    "plt.figure(figsize=(18,3))\n",
    "for i in range(len(cols)):\n",
    "    plt.subplot(1,len(cols),i+1)\n",
    "    plt.hist(visa_df['prevailing_wage'],\n",
    "               bins=40)\n",
    "    plt.title(f\"Histogram of {cols[i]}\")\n",
    "    plt.xlabel(\"Class Interval\")\n",
    "    plt.ylabel(\"Count\")"
   ]
  },
  {
   "cell_type": "markdown",
   "id": "267705db-bef0-4f80-92ea-419325a018b5",
   "metadata": {},
   "source": [
    "**Histogram using seaborn**\n",
    "- histplot\n",
    "- distplot"
   ]
  },
  {
   "cell_type": "code",
   "execution_count": 105,
   "id": "5ed222d8-7451-48ff-b4af-b6b5947a9727",
   "metadata": {},
   "outputs": [
    {
     "data": {
      "text/plain": [
       "<Axes: xlabel='prevailing_wage', ylabel='Count'>"
      ]
     },
     "execution_count": 105,
     "metadata": {},
     "output_type": "execute_result"
    },
    {
     "data": {
      "image/png": "[encoded data removed]",
      "text/plain": [
       "<Figure size 640x480 with 1 Axes>"
      ]
     },
     "metadata": {},
     "output_type": "display_data"
    }
   ],
   "source": [
    "import seaborn as sns\n",
    "import warnings\n",
    "warnings.filterwarnings(\"ignore\")\n",
    "sns.histplot(visa_df['prevailing_wage'])"
   ]
  },
  {
   "cell_type": "code",
   "execution_count": 108,
   "id": "5b6b4a55-249a-410f-a763-84583f1b786d",
   "metadata": {},
   "outputs": [
    {
     "data": {
      "text/plain": [
       "<Axes: xlabel='prevailing_wage', ylabel='Density'>"
      ]
     },
     "execution_count": 108,
     "metadata": {},
     "output_type": "execute_result"
    },
    {
     "data": {
      "image/png": "[encoded data removed]",
      "text/plain": [
       "<Figure size 640x480 with 1 Axes>"
      ]
     },
     "metadata": {},
     "output_type": "display_data"
    }
   ],
   "source": [
    "import seaborn as sns\n",
    "import warnings\n",
    "warnings.filterwarnings(\"ignore\")\n",
    "sns.distplot(visa_df['prevailing_wage'])"
   ]
  },
  {
   "cell_type": "code",
   "execution_count": null,
   "id": "91d21930-1267-4707-bb75-f48b7a8914e7",
   "metadata": {},
   "outputs": [],
   "source": []
  },
  {
   "cell_type": "code",
   "execution_count": null,
   "id": "2ef456ee-db98-4b18-b0fe-4174a8c5f475",
   "metadata": {},
   "outputs": [],
   "source": []
  },
  {
   "cell_type": "code",
   "execution_count": null,
   "id": "6494d44f-8890-4f45-a349-d3c1a5eb1b54",
   "metadata": {},
   "outputs": [],
   "source": []
  }
 ],
 "metadata": {
  "kernelspec": {
   "display_name": "Python 3 (ipykernel)",
   "language": "python",
   "name": "python3"
  },
  "language_info": {
   "codemirror_mode": {
    "name": "ipython",
    "version": 3
   },
   "file_extension": ".py",
   "mimetype": "text/x-python",
   "name": "python",
   "nbconvert_exporter": "python",
   "pygments_lexer": "ipython3",
   "version": "3.11.7"
  }
 },
 "nbformat": 4,
 "nbformat_minor": 5
}
