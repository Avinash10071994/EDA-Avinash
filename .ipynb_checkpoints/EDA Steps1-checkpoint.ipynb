{
 "cells": [
  {
   "cell_type": "markdown",
   "id": "2239a5fd-9556-4a71-85e9-20d285d41a75",
   "metadata": {},
   "source": [
    "$Step1$ - Read the data\n",
    "\n",
    "$Step2$ - Data quick checks\n",
    " - dtypes\n",
    " - Columns\n",
    " - shape\n",
    " - size\n",
    " - info\n",
    "  \n",
    "$step3$ - convert categorical columns to Numerical columns names separately\n",
    "\n",
    "$step4$ - you need to fill the missing values\n",
    "\n",
    "$step5$ - categorical data analysis\n",
    " - unique\n",
    " - nunique\n",
    " - value counts\n",
    " - bar chart\n",
    " - count plot\n",
    " - pie chart\n",
    "  \n",
    "$step6$ - Numerical column analysis\n",
    " - Describe function(Mean,mode,median)\n",
    " - Histogram\n",
    " - Data skew ness\n",
    "  \n",
    "$step7$ - Box plot creation\n",
    " - outlier analysis\n",
    "     \n",
    "$step8$ - Transformation methods\n",
    "\n",
    "$step9$ - Encoding methods\n",
    " - np.where\n",
    " - LableEncoder\n",
    " - One hot Encoder\n",
    "  \n",
    "$step10$ - scaling methods\n",
    " - Z method\n",
    " - minmax scalar\n"
   ]
  },
  {
   "cell_type": "code",
   "execution_count": null,
   "id": "cff7557f-813b-4da6-a612-5a6516a0d1b5",
   "metadata": {},
   "outputs": [],
   "source": []
  },
  {
   "cell_type": "markdown",
   "id": "0f57b4df-df93-44b5-a502-66101b0f00ec",
   "metadata": {},
   "source": [
    "======coloumn========features===============variables\n",
    "\n",
    "columns are two types\n",
    "input column         output column\n",
    "independent          Dependent\n",
    "                    Target column\n",
    "\n",
    "\n",
    "Rows=====Fields=====instances======tuples\n",
    "values"
   ]
  },
  {
   "cell_type": "code",
   "execution_count": 31,
   "id": "5c7596c6-9ce8-43fc-968e-93b704281fda",
   "metadata": {},
   "outputs": [
    {
     "name": "stdin",
     "output_type": "stream",
     "text": [
      "Enter your name: \"Avinash\"\n"
     ]
    },
    {
     "name": "stdout",
     "output_type": "stream",
     "text": [
      "Avinash\n"
     ]
    }
   ],
   "source": [
    "a= eval(input(\"Enter your name:\"))\n",
    "for i in range(len(a)):\n",
    "    if \"aeiouAEIOU\" in a:\n",
    "        a+=1\n",
    "print(a)"
   ]
  },
  {
   "cell_type": "code",
   "execution_count": null,
   "id": "bf044833-47ec-4904-bc76-c5b5b5ed8ab3",
   "metadata": {},
   "outputs": [],
   "source": []
  }
 ],
 "metadata": {
  "kernelspec": {
   "display_name": "Python 3 (ipykernel)",
   "language": "python",
   "name": "python3"
  },
  "language_info": {
   "codemirror_mode": {
    "name": "ipython",
    "version": 3
   },
   "file_extension": ".py",
   "mimetype": "text/x-python",
   "name": "python",
   "nbconvert_exporter": "python",
   "pygments_lexer": "ipython3",
   "version": "3.11.7"
  }
 },
 "nbformat": 4,
 "nbformat_minor": 5
}
